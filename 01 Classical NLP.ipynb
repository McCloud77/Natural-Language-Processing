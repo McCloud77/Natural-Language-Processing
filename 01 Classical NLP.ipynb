{
 "cells": [
  {
   "cell_type": "markdown",
   "metadata": {},
   "source": [
    "# Predicting Tags on StackOverflow with Linear Models"
   ]
  },
  {
   "cell_type": "markdown",
   "metadata": {},
   "source": [
    "Here we will learn attempt to predict tags for posts from [StackOverflow](https://stackoverflow.com) using a multilabel classification approach. The use of deep learning in natural language processing will be the subject of a subsequent notebook.\n",
    "\n",
    "## Libraries"
   ]
  },
  {
   "cell_type": "code",
   "execution_count": 1,
   "metadata": {},
   "outputs": [],
   "source": [
    "import sys\n",
    "import nltk\n",
    "from nltk.corpus import stopwords\n",
    "from ast import literal_eval\n",
    "import pandas as pd\n",
    "import numpy as np\n",
    "import re\n",
    "from collections import defaultdict\n",
    "from scipy import sparse as sp_sparse\n",
    "from sklearn.feature_extraction.text import TfidfVectorizer\n",
    "from sklearn.preprocessing import MultiLabelBinarizer\n",
    "from sklearn.multiclass import OneVsRestClassifier\n",
    "from sklearn.linear_model import LogisticRegression\n",
    "from sklearn.metrics import accuracy_score\n",
    "from sklearn.metrics import f1_score\n",
    "from sklearn.metrics import roc_auc_score \n",
    "from sklearn.metrics import average_precision_score\n",
    "from sklearn.metrics import recall_score\n",
    "from metrics import roc_auc\n",
    "%matplotlib inline"
   ]
  },
  {
   "cell_type": "markdown",
   "metadata": {},
   "source": [
    "## Data"
   ]
  },
  {
   "cell_type": "markdown",
   "metadata": {},
   "source": [
    "The dataset consists of  titles from posts on StackOverflow split into 3 sets: *train*, *validation* and *test*. All corpora (except for *test*) contain titles of the posts and corresponding tags (100 tags are available)."
   ]
  },
  {
   "cell_type": "code",
   "execution_count": 2,
   "metadata": {
    "collapsed": true
   },
   "outputs": [],
   "source": [
    "def read_data(filename):\n",
    "    data = pd.read_csv(filename, sep='\\t')\n",
    "    data['tags'] = data['tags'].apply(literal_eval)\n",
    "    return data"
   ]
  },
  {
   "cell_type": "code",
   "execution_count": 3,
   "metadata": {
    "collapsed": true
   },
   "outputs": [
    {
     "name": "stdout",
     "output_type": "stream",
     "text": [
      "Shape of training set: (100000, 2)\n",
      "Shape of validation set: (30000, 2)\n",
      "Shape of test set: (20000, 1)\n"
     ]
    }
   ],
   "source": [
    "train = read_data('data/train.tsv')\n",
    "validation = read_data('data/validation.tsv')\n",
    "test = pd.read_csv('data/test.tsv', sep='\\t')\n",
    "\n",
    "print('Shape of training set:', train.shape)\n",
    "print('Shape of validation set:', validation.shape)\n",
    "print('Shape of test set:', test.shape)"
   ]
  },
  {
   "cell_type": "code",
   "execution_count": 4,
   "metadata": {
    "collapsed": true
   },
   "outputs": [
    {
     "data": {
      "text/html": [
       "<div>\n",
       "<style scoped>\n",
       "    .dataframe tbody tr th:only-of-type {\n",
       "        vertical-align: middle;\n",
       "    }\n",
       "\n",
       "    .dataframe tbody tr th {\n",
       "        vertical-align: top;\n",
       "    }\n",
       "\n",
       "    .dataframe thead th {\n",
       "        text-align: right;\n",
       "    }\n",
       "</style>\n",
       "<table border=\"1\" class=\"dataframe\">\n",
       "  <thead>\n",
       "    <tr style=\"text-align: right;\">\n",
       "      <th></th>\n",
       "      <th>title</th>\n",
       "      <th>tags</th>\n",
       "    </tr>\n",
       "  </thead>\n",
       "  <tbody>\n",
       "    <tr>\n",
       "      <th>0</th>\n",
       "      <td>How to draw a stacked dotplot in R?</td>\n",
       "      <td>[r]</td>\n",
       "    </tr>\n",
       "    <tr>\n",
       "      <th>1</th>\n",
       "      <td>mysql select all records where a datetime fiel...</td>\n",
       "      <td>[php, mysql]</td>\n",
       "    </tr>\n",
       "    <tr>\n",
       "      <th>2</th>\n",
       "      <td>How to terminate windows phone 8.1 app</td>\n",
       "      <td>[c#]</td>\n",
       "    </tr>\n",
       "    <tr>\n",
       "      <th>3</th>\n",
       "      <td>get current time in a specific country via jquery</td>\n",
       "      <td>[javascript, jquery]</td>\n",
       "    </tr>\n",
       "    <tr>\n",
       "      <th>4</th>\n",
       "      <td>Configuring Tomcat to Use SSL</td>\n",
       "      <td>[java]</td>\n",
       "    </tr>\n",
       "  </tbody>\n",
       "</table>\n",
       "</div>"
      ],
      "text/plain": [
       "                                               title                  tags\n",
       "0                How to draw a stacked dotplot in R?                   [r]\n",
       "1  mysql select all records where a datetime fiel...          [php, mysql]\n",
       "2             How to terminate windows phone 8.1 app                  [c#]\n",
       "3  get current time in a specific country via jquery  [javascript, jquery]\n",
       "4                      Configuring Tomcat to Use SSL                [java]"
      ]
     },
     "execution_count": 4,
     "metadata": {},
     "output_type": "execute_result"
    }
   ],
   "source": [
    "train.head()"
   ]
  },
  {
   "cell_type": "markdown",
   "metadata": {},
   "source": [
    "As shown above, the *title* column contains titles of the posts and the *tags* column contains the tags. Notice that the number of tags for a particular post is not fixed and could be more than one."
   ]
  },
  {
   "cell_type": "code",
   "execution_count": 5,
   "metadata": {},
   "outputs": [
    {
     "name": "stdout",
     "output_type": "stream",
     "text": [
      "['r' 'php' 'mysql' 'c#' 'javascript' 'jquery' 'java' 'ruby-on-rails'\n",
      " 'ruby' 'ruby-on-rails-3' 'json' 'spring' 'spring-mvc' 'codeigniter'\n",
      " 'class' 'html' 'ios' 'c++' 'eclipse' 'python' 'list' 'objective-c'\n",
      " 'swift' 'xaml' 'asp.net' 'wpf' 'multithreading' 'image' 'performance'\n",
      " 'twitter-bootstrap' 'linq' 'xml' 'numpy' 'ajax' 'django' 'laravel'\n",
      " 'android' 'rest' 'asp.net-mvc' 'web-services' 'string' 'excel' 'winforms'\n",
      " 'arrays' 'c' 'sockets' 'osx' 'entity-framework' 'mongodb' 'opencv'\n",
      " 'xcode' 'uitableview' 'algorithm' 'python-2.7' 'angularjs' 'dom' 'swing'\n",
      " '.net' 'vb.net' 'google-maps' 'hibernate' 'wordpress' 'iphone' 'sql'\n",
      " 'visual-studio' 'linux' 'facebook' 'database' 'file' 'generics'\n",
      " 'visual-studio-2010' 'regex' 'html5' 'jsp' 'csv' 'forms' 'validation'\n",
      " 'parsing' 'function' 'pandas' 'sorting' 'qt' 'wcf' 'css' 'date' 'node.js'\n",
      " 'sql-server' 'unit-testing' 'python-3.x' 'loops' 'windows' 'pointers'\n",
      " 'oop' 'datetime' 'servlets' 'session' 'cocoa-touch' 'apache' 'selenium'\n",
      " 'maven']\n"
     ]
    }
   ],
   "source": [
    "# Display unique tags\n",
    "unique_tags = pd.Series([item for sublist in train['tags'].tolist() for item in sublist]).unique()\n",
    "print(unique_tags)"
   ]
  },
  {
   "cell_type": "markdown",
   "metadata": {},
   "source": [
    "## Split Data"
   ]
  },
  {
   "cell_type": "code",
   "execution_count": 6,
   "metadata": {
    "collapsed": true
   },
   "outputs": [],
   "source": [
    "X_train, y_train = train['title'].values, train['tags'].values\n",
    "X_val, y_val = validation['title'].values, validation['tags'].values\n",
    "X_test = test['title'].values"
   ]
  },
  {
   "cell_type": "markdown",
   "metadata": {},
   "source": [
    "## Text Preprocessing"
   ]
  },
  {
   "cell_type": "code",
   "execution_count": 7,
   "metadata": {
    "collapsed": true
   },
   "outputs": [],
   "source": [
    "REPLACE_BY_SPACE_RE = re.compile('[/(){}\\[\\]\\|@,;]')\n",
    "BAD_SYMBOLS_RE = re.compile('[^0-9a-z #+_]')\n",
    "STOPWORDS = set(stopwords.words('english'))\n",
    "\n",
    "def text_prepare(text):\n",
    "    \"\"\"\n",
    "        text: a string\n",
    "        returns: modified initial string\n",
    "    \"\"\"\n",
    "    text = text.lower()\n",
    "    text = re.sub(REPLACE_BY_SPACE_RE, ' ', text)\n",
    "    text = re.sub(BAD_SYMBOLS_RE, '', text)\n",
    "    text = ' '.join(w for w in text.split() if w not in STOPWORDS)\n",
    "    return text"
   ]
  },
  {
   "cell_type": "code",
   "execution_count": 8,
   "metadata": {
    "collapsed": true
   },
   "outputs": [
    {
     "name": "stdout",
     "output_type": "stream",
     "text": [
      "Raw text:\t\t SQL Server - any equivalent of Excel's CHOOSE function?\n",
      "Preprocessed text:\t sql server equivalent excels choose function\n",
      "Raw text:\t\t How to free c++ memory vector<int> * arr?\n",
      "Preprocessed text:\t free c++ memory vectorint arr\n",
      "Raw text:\t\t Error while deploying to Tomcat: tomcatManager status code:404, ReasonPhrase:Not Found\n",
      "Preprocessed text:\t error deploying tomcat tomcatmanager status code404 reasonphrasenot found\n",
      "Raw text:\t\t com.mongodb.MongoTimeoutException: Timed out after 10000 ms while waiting to connect\n",
      "Preprocessed text:\t commongodbmongotimeoutexception timed 10000 ms waiting connect\n"
     ]
    }
   ],
   "source": [
    "# Example of text preprocessing\n",
    "examples = [\"SQL Server - any equivalent of Excel's CHOOSE function?\",\n",
    "            \"How to free c++ memory vector<int> * arr?\",\n",
    "            \"Error while deploying to Tomcat: tomcatManager status code:404, ReasonPhrase:Not Found\",\n",
    "            \"com.mongodb.MongoTimeoutException: Timed out after 10000 ms while waiting to connect\"]\n",
    "\n",
    "for example in examples:\n",
    "    print('Raw text:\\t\\t', example)\n",
    "    print('Preprocessed text:\\t', text_prepare(example))"
   ]
  },
  {
   "cell_type": "markdown",
   "metadata": {},
   "source": [
    "Now we can preprocess the titles using the function *text_prepare* and  make sure that the headers don't contain unwanted symbols:"
   ]
  },
  {
   "cell_type": "code",
   "execution_count": 9,
   "metadata": {
    "collapsed": true
   },
   "outputs": [],
   "source": [
    "X_train = [text_prepare(x) for x in X_train]\n",
    "X_val = [text_prepare(x) for x in X_val]\n",
    "X_test = [text_prepare(x) for x in X_test]"
   ]
  },
  {
   "cell_type": "code",
   "execution_count": 10,
   "metadata": {
    "collapsed": true
   },
   "outputs": [
    {
     "data": {
      "text/plain": [
       "['draw stacked dotplot r',\n",
       " 'mysql select records datetime field less specified value',\n",
       " 'terminate windows phone 81 app']"
      ]
     },
     "execution_count": 10,
     "metadata": {},
     "output_type": "execute_result"
    }
   ],
   "source": [
    "X_train[:3]"
   ]
  },
  {
   "cell_type": "markdown",
   "metadata": {},
   "source": [
    "## Word and Tag Count"
   ]
  },
  {
   "cell_type": "code",
   "execution_count": 11,
   "metadata": {
    "collapsed": true
   },
   "outputs": [],
   "source": [
    "# Dictionary of all tags from the training corpus with their counts.\n",
    "tags_counts = defaultdict(int)\n",
    "# Dictionary of all words from the training corpus with their counts.\n",
    "words_counts = defaultdict(int)\n",
    "\n",
    "for elem in y_train:\n",
    "    for tag in elem:\n",
    "        tags_counts[tag] += 1\n",
    "        \n",
    "for elem in X_train:\n",
    "    text = elem.split()\n",
    "    for word in text:\n",
    "        words_counts[word] += 1"
   ]
  },
  {
   "cell_type": "markdown",
   "metadata": {},
   "source": [
    "Display most common words in `title` and most common tags in `tag`."
   ]
  },
  {
   "cell_type": "code",
   "execution_count": 12,
   "metadata": {
    "collapsed": true
   },
   "outputs": [
    {
     "name": "stdout",
     "output_type": "stream",
     "text": [
      "Five most common words: ['using', 'php', 'java', 'file', 'javascript']\n",
      "Five most common tags: ['javascript', 'c#', 'java', 'php', 'python']\n"
     ]
    }
   ],
   "source": [
    "most_common_tags = sorted(tags_counts.items(), key=lambda x: x[1], reverse=True)\n",
    "most_common_words = sorted(words_counts.items(), key=lambda x: x[1], reverse=True)\n",
    "\n",
    "print('Five most common words:', [word for word, _ in most_common_words[:5]])\n",
    "print('Five most common tags:', [tag for tag, _ in most_common_tags[:5]])"
   ]
  },
  {
   "cell_type": "markdown",
   "metadata": {},
   "source": [
    "## Transforming text to a vector\n",
    "\n",
    "One well-known approach is a *bag-of-words* representation. To apply this transformation:\n",
    "1. Find *N* most popular words in the training corpus and numerate them. Now we have a dictionary of the most popular words.\n",
    "2. For each title in the corpora create a zero vector with the dimension equals to *N*.\n",
    "3. For each text in the corpora iterate over words which are in the dictionary and increase the corresponding index of the vector by 1."
   ]
  },
  {
   "cell_type": "markdown",
   "metadata": {},
   "source": [
    "### Bag of Words"
   ]
  },
  {
   "cell_type": "code",
   "execution_count": 13,
   "metadata": {
    "collapsed": true
   },
   "outputs": [],
   "source": [
    "DICT_SIZE = 5000\n",
    "WORDS_TO_INDEX = {j[0]:i for i,j in enumerate(sorted(words_counts.items(), key=lambda x: x[1], reverse=True)[:DICT_SIZE])}\n",
    "INDEX_TO_WORDS = {i:j[0] for i,j in enumerate(sorted(words_counts.items(), key=lambda x: x[1], reverse=True)[:DICT_SIZE])}\n",
    "ALL_WORDS = WORDS_TO_INDEX.keys()\n",
    "\n",
    "def my_bag_of_words(text, words_to_index, dict_size):\n",
    "    \"\"\"\n",
    "        text: a string\n",
    "        dict_size: size of the dictionary\n",
    "        return a vector which is a bag-of-words representation of 'text'\n",
    "    \"\"\"\n",
    "    result_vector = np.zeros(dict_size)\n",
    "    keys = [words_to_index[i] for i in text.split() if i in words_to_index.keys()]\n",
    "    result_vector[keys] = 1\n",
    "    \n",
    "    return result_vector"
   ]
  },
  {
   "cell_type": "markdown",
   "metadata": {},
   "source": [
    "Now apply the implemented function to all samples:"
   ]
  },
  {
   "cell_type": "code",
   "execution_count": 14,
   "metadata": {
    "collapsed": true
   },
   "outputs": [
    {
     "name": "stdout",
     "output_type": "stream",
     "text": [
      "X_train shape  (100000, 5000)\n",
      "X_val shape  (30000, 5000)\n",
      "X_test shape  (20000, 5000)\n"
     ]
    }
   ],
   "source": [
    "X_train_mybag = sp_sparse.vstack([sp_sparse.csr_matrix(my_bag_of_words(text, WORDS_TO_INDEX, DICT_SIZE)) for text in X_train])\n",
    "X_val_mybag = sp_sparse.vstack([sp_sparse.csr_matrix(my_bag_of_words(text, WORDS_TO_INDEX, DICT_SIZE)) for text in X_val])\n",
    "X_test_mybag = sp_sparse.vstack([sp_sparse.csr_matrix(my_bag_of_words(text, WORDS_TO_INDEX, DICT_SIZE)) for text in X_test])\n",
    "\n",
    "print('X_train shape ', X_train_mybag.shape)\n",
    "print('X_val shape ', X_val_mybag.shape)\n",
    "print('X_test shape ', X_test_mybag.shape)"
   ]
  },
  {
   "cell_type": "markdown",
   "metadata": {},
   "source": [
    "Note that we transform the data to a sparse representation to store the useful information efficiently. There are many [types](https://docs.scipy.org/doc/scipy/reference/sparse.html) of such representations, however sklearn algorithms can work only with [csr](https://docs.scipy.org/doc/scipy/reference/generated/scipy.sparse.csr_matrix.html#scipy.sparse.csr_matrix) matrix, so we will use this one."
   ]
  },
  {
   "cell_type": "code",
   "execution_count": 15,
   "metadata": {
    "collapsed": true
   },
   "outputs": [
    {
     "name": "stdout",
     "output_type": "stream",
     "text": [
      "Stackoverflow title for row 22 :\t make 2 thumbnails codeigniter\n",
      "Number of non-zero elements in row 22 :\t 4\n"
     ]
    }
   ],
   "source": [
    "# Example of a title converted to a vector\n",
    "idx = 22\n",
    "row = X_train_mybag[idx].toarray()[0]\n",
    "non_zero_elements_count = sum(row != 0)\n",
    "\n",
    "print('Stackoverflow title for row', idx, ':\\t', X_train[idx])\n",
    "print('Number of non-zero elements in row', idx, ':\\t', non_zero_elements_count)"
   ]
  },
  {
   "cell_type": "markdown",
   "metadata": {},
   "source": [
    "### TF-IDF\n",
    "\n",
    "The second approach extends the bag-of-words framework by taking into account total word frequencies in the corpora. It helps to penalize frequent words and provides a better feature space."
   ]
  },
  {
   "cell_type": "code",
   "execution_count": 16,
   "metadata": {
    "collapsed": true
   },
   "outputs": [],
   "source": [
    "def tfidf_features(X_train, X_val, X_test):\n",
    "    \"\"\"\n",
    "        X_train, X_val, X_test — samples        \n",
    "        return TF-IDF vectorized representation of each sample and vocabulary\n",
    "    \"\"\"\n",
    "    tfidf_vectorizer = TfidfVectorizer(token_pattern='(\\S+)', ngram_range=(1,2), max_df=0.9, min_df=5)\n",
    "    tfidf_vectorizer.fit(X_train)\n",
    "    X_train = tfidf_vectorizer.transform(X_train)\n",
    "    X_val = tfidf_vectorizer.transform(X_val)\n",
    "    X_test = tfidf_vectorizer.transform(X_test)\n",
    "    \n",
    "    return X_train, X_val, X_test, tfidf_vectorizer.vocabulary_"
   ]
  },
  {
   "cell_type": "markdown",
   "metadata": {},
   "source": [
    "### Prepare corpora for tfidf"
   ]
  },
  {
   "cell_type": "code",
   "execution_count": 17,
   "metadata": {
    "collapsed": true
   },
   "outputs": [],
   "source": [
    "X_train_tfidf, X_val_tfidf, X_test_tfidf, tfidf_vocab = tfidf_features(X_train, X_val, X_test)\n",
    "tfidf_reversed_vocab = {i:word for word,i in tfidf_vocab.items()}"
   ]
  },
  {
   "cell_type": "code",
   "execution_count": 18,
   "metadata": {},
   "outputs": [
    {
     "name": "stdout",
     "output_type": "stream",
     "text": [
      "Tags found in vocabulary:\n",
      "\n",
      "{'twitter-bootstrap', '.net', 'python-3.x', 'google-maps', 'visual-studio-2010', 'spring-mvc', 'ruby-on-rails-3', 'unit-testing', 'entity-framework', 'cocoa-touch', 'objective-c', 'asp.net-mvc', 'ruby-on-rails', 'asp.net', 'vb.net', 'sql-server', 'visual-studio', 'web-services', 'node.js', 'python-2.7'}\n",
      "\n",
      "Tags not found in vocabulary\n",
      ":\n",
      "{'mysql', 'numpy', 'laravel', 'ios', 'database', 'swift', 'function', 'linux', 'jsp', 'spring', 'wcf', 'excel', 'windows', 'pandas', 'css', 'forms', 'pointers', 'apache', 'sql', 'generics', 'wpf', 'jquery', 'java', 'xaml', 'arrays', 'swing', 'validation', 'facebook', 'php', 'algorithm', 'csv', 'ajax', 'ruby', 'image', 'maven', 'xcode', 'r', 'c#', 'django', 'qt', 'servlets', 'rest', 'opencv', 'performance', 'winforms', 'string', 'list', 'uitableview', 'file', 'eclipse', 'selenium', 'hibernate', 'oop', 'python', 'wordpress', 'session', 'angularjs', 'html5', 'codeigniter', 'regex', 'html', 'c', 'javascript', 'xml', 'osx', 'c++', 'android', 'linq', 'dom', 'datetime', 'date', 'class', 'loops', 'json', 'sorting', 'mongodb', 'multithreading', 'iphone', 'parsing', 'sockets'}\n",
      "\n",
      "Total number of different tags: 100\n"
     ]
    }
   ],
   "source": [
    "# Check tags\n",
    "tags_in_vocab = []\n",
    "for tag in unique_tags:\n",
    "    if tag not in tfidf_vocab:\n",
    "        tags_in_vocab.append(tag)\n",
    "    \n",
    "print('Tags found in vocabulary:\\n')\n",
    "print(set(tags_in_vocab))\n",
    "\n",
    "print('\\nTags not found in vocabulary\\n:')\n",
    "print(set(unique_tags).difference(set(tags_in_vocab)))\n",
    "\n",
    "print('\\nTotal number of different tags:', len(set(unique_tags).difference(set(tags_in_vocab))) + len(set(tags_in_vocab)))"
   ]
  },
  {
   "cell_type": "markdown",
   "metadata": {},
   "source": [
    "### MultiLabel classifier\n",
    "\n",
    "Because each example can have multiple tags, we need to transform the labels into a binary form; the prediction will be a mask of 0s and 1s. For this purpose we can use [MultiLabelBinarizer](http://scikit-learn.org/stable/modules/generated/sklearn.preprocessing.MultiLabelBinarizer.html) from *sklearn*."
   ]
  },
  {
   "cell_type": "code",
   "execution_count": 19,
   "metadata": {
    "collapsed": true
   },
   "outputs": [],
   "source": [
    "mlb = MultiLabelBinarizer(classes=sorted(tags_counts.keys()))\n",
    "y_train = mlb.fit_transform(y_train)\n",
    "y_val = mlb.fit_transform(y_val)"
   ]
  },
  {
   "cell_type": "markdown",
   "metadata": {},
   "source": [
    "As a basic classifier, we will use [LogisticRegression](http://scikit-learn.org/stable/modules/generated/sklearn.linear_model.LogisticRegression.html). It is one of the simplest methods, but often it performs well enough in text classification tasks."
   ]
  },
  {
   "cell_type": "markdown",
   "metadata": {},
   "source": [
    "Train the classifiers for different data transformations: *bag-of-words* and *tf-idf*."
   ]
  },
  {
   "cell_type": "code",
   "execution_count": 20,
   "metadata": {
    "collapsed": true
   },
   "outputs": [],
   "source": [
    "def train_classifier(X_train, y_train):\n",
    "    \"\"\"\n",
    "      X_train, y_train — training data\n",
    "      return: trained classifier\n",
    "    \"\"\"\n",
    "    clf = OneVsRestClassifier(estimator=LogisticRegression())\n",
    "    return clf.fit(X_train, y_train) "
   ]
  },
  {
   "cell_type": "code",
   "execution_count": 21,
   "metadata": {
    "collapsed": true
   },
   "outputs": [],
   "source": [
    "classifier_mybag = train_classifier(X_train_mybag, y_train)\n",
    "classifier_tfidf = train_classifier(X_train_tfidf, y_train)"
   ]
  },
  {
   "cell_type": "markdown",
   "metadata": {},
   "source": [
    "Create predictions using the validation data (labels and scores)."
   ]
  },
  {
   "cell_type": "code",
   "execution_count": 22,
   "metadata": {
    "collapsed": true
   },
   "outputs": [],
   "source": [
    "y_val_predicted_labels_mybag = classifier_mybag.predict(X_val_mybag)\n",
    "y_val_predicted_scores_mybag = classifier_mybag.decision_function(X_val_mybag)\n",
    "\n",
    "y_val_predicted_labels_tfidf = classifier_tfidf.predict(X_val_tfidf)\n",
    "y_val_predicted_scores_tfidf = classifier_tfidf.decision_function(X_val_tfidf)"
   ]
  },
  {
   "cell_type": "markdown",
   "metadata": {},
   "source": [
    "Let's take a look at how the classifier, which uses TF-IDF, works for a few examples:"
   ]
  },
  {
   "cell_type": "code",
   "execution_count": 23,
   "metadata": {
    "collapsed": true
   },
   "outputs": [
    {
     "name": "stdout",
     "output_type": "stream",
     "text": [
      "Title:\thashtable synchronization java\n",
      "True labels:\tjava,multithreading\n",
      "Predicted labels:\tjava\n",
      "\n",
      "\n",
      "Title:\tconnect 4 check winner algorithm\n",
      "True labels:\talgorithm,java\n",
      "Predicted labels:\t\n",
      "\n",
      "\n",
      "Title:\trails find has_many\n",
      "True labels:\truby,ruby-on-rails\n",
      "Predicted labels:\truby-on-rails\n",
      "\n",
      "\n",
      "Title:\tcheck cell contains formula excel oledb reader excel library excel datareader npoi etc except interop\n",
      "True labels:\tasp.net,c#,excel,winforms\n",
      "Predicted labels:\tc#,excel\n",
      "\n",
      "\n",
      "Title:\tsaving retrieving images sqlite ios\n",
      "True labels:\tios,objective-c\n",
      "Predicted labels:\tios,objective-c\n",
      "\n",
      "\n"
     ]
    }
   ],
   "source": [
    "y_val_pred_inversed = mlb.inverse_transform(y_val_predicted_labels_tfidf)\n",
    "y_val_inversed = mlb.inverse_transform(y_val)\n",
    "\n",
    "sampled_predictions = np.random.choice(30000, size=5, replace=False)\n",
    "\n",
    "for i in sampled_predictions:\n",
    "    print('Title:\\t{}\\nTrue labels:\\t{}\\nPredicted labels:\\t{}\\n\\n'.format(\n",
    "        X_val[i],\n",
    "        ','.join(y_val_inversed[i]),\n",
    "        ','.join(y_val_pred_inversed[i])\n",
    "    ))"
   ]
  },
  {
   "cell_type": "markdown",
   "metadata": {},
   "source": [
    "## Evaluation\n",
    "\n",
    "To evaluate the results we will use several classification metrics:\n",
    " - [Accuracy](http://scikit-learn.org/stable/modules/generated/sklearn.metrics.accuracy_score.html)\n",
    " - [F1-score](http://scikit-learn.org/stable/modules/generated/sklearn.metrics.f1_score.html)\n",
    " - [Area under ROC-curve](http://scikit-learn.org/stable/modules/generated/sklearn.metrics.roc_auc_score.html)\n",
    " - [Area under precision-recall curve](http://scikit-learn.org/stable/modules/generated/sklearn.metrics.average_precision_score.html#sklearn.metrics.average_precision_score)"
   ]
  },
  {
   "cell_type": "code",
   "execution_count": 24,
   "metadata": {
    "collapsed": true
   },
   "outputs": [],
   "source": [
    "def print_evaluation_scores(y_val, predicted):\n",
    "    print('Accuracy score:', accuracy_score(y_val, predicted))\n",
    "    print('F1 score:', f1_score(y_val, predicted, average='weighted'))\n",
    "    print('Precision:', average_precision_score(y_val, predicted, average='weighted'))"
   ]
  },
  {
   "cell_type": "code",
   "execution_count": 25,
   "metadata": {},
   "outputs": [
    {
     "name": "stdout",
     "output_type": "stream",
     "text": [
      "Bag-of-words\n",
      "Accuracy score: 0.3617\n",
      "F1 score: 0.6516894695054041\n",
      "Precision: 0.5140449141164741\n",
      "\n",
      "Tfidf\n",
      "Accuracy score: 0.33393333333333336\n",
      "F1 score: 0.614350867051105\n",
      "Precision: 0.4850977390709925\n"
     ]
    }
   ],
   "source": [
    "print('Bag-of-words')\n",
    "print_evaluation_scores(y_val, y_val_predicted_labels_mybag)\n",
    "print('\\nTfidf')\n",
    "print_evaluation_scores(y_val, y_val_predicted_labels_tfidf)"
   ]
  },
  {
   "cell_type": "markdown",
   "metadata": {},
   "source": [
    "## ROC curves"
   ]
  },
  {
   "cell_type": "code",
   "execution_count": 26,
   "metadata": {
    "collapsed": true
   },
   "outputs": [
    {
     "data": {
      "image/png": "[encoded data removed]",
      "text/plain": [
       "<Figure size 432x288 with 1 Axes>"
      ]
     },
     "metadata": {},
     "output_type": "display_data"
    }
   ],
   "source": [
    "n_classes = len(tags_counts)\n",
    "roc_auc(y_val, y_val_predicted_scores_mybag, n_classes)"
   ]
  },
  {
   "cell_type": "code",
   "execution_count": 27,
   "metadata": {
    "collapsed": true
   },
   "outputs": [
    {
     "data": {
      "image/png": "[encoded data removed]",
      "text/plain": [
       "<Figure size 432x288 with 1 Axes>"
      ]
     },
     "metadata": {},
     "output_type": "display_data"
    }
   ],
   "source": [
    "n_classes = len(tags_counts)\n",
    "roc_auc(y_val, y_val_predicted_scores_tfidf, n_classes)"
   ]
  },
  {
   "cell_type": "markdown",
   "metadata": {},
   "source": [
    "## Tuning Hyperparameters"
   ]
  },
  {
   "cell_type": "code",
   "execution_count": 28,
   "metadata": {
    "collapsed": true
   },
   "outputs": [
    {
     "name": "stdout",
     "output_type": "stream",
     "text": [
      "Evaluation metrics for C = 0.5 :\n",
      "Accuracy score: 0.35546666666666665\n",
      "F1 score: 0.6421754795935027\n",
      "Precision: 0.5074979498962355\n",
      "Evaluation metrics for C = 1 :\n",
      "Accuracy score: 0.3617\n",
      "F1 score: 0.6516894695054041\n",
      "Precision: 0.5140449141164741\n",
      "Evaluation metrics for C = 10 :\n",
      "Accuracy score: 0.35313333333333335\n",
      "F1 score: 0.6539201235517432\n",
      "Precision: 0.5039311046363714\n",
      "Evaluation metrics for C = 100 :\n",
      "Accuracy score: 0.32043333333333335\n",
      "F1 score: 0.6345389784259912\n",
      "Precision: 0.47593130365905023\n"
     ]
    }
   ],
   "source": [
    "def eval_bow(X_train_mybag, y_train, X_val_mybag, y_val, C):\n",
    "    \n",
    "    clf = OneVsRestClassifier(estimator=LogisticRegression(C=C))\n",
    "    clf.fit(X_train_mybag, y_train)\n",
    "    y_val_predicted_labels_mybag = clf.predict(X_val_mybag)\n",
    "    print('Evaluation metrics for C =', C, ':')\n",
    "    print_evaluation_scores(y_val, y_val_predicted_labels_mybag)\n",
    "    \n",
    "for C in [0.5, 1, 10, 100]:\n",
    "    eval_bow(X_train_mybag, y_train, X_val_mybag, y_val, C=C)"
   ]
  },
  {
   "cell_type": "code",
   "execution_count": 29,
   "metadata": {},
   "outputs": [
    {
     "name": "stdout",
     "output_type": "stream",
     "text": [
      "Evaluation metrics for C = 1 :\n",
      "Accuracy score: 0.33393333333333336\n",
      "F1 score: 0.614350867051105\n",
      "Precision: 0.4850977390709925\n",
      "Evaluation metrics for C = 2 :\n",
      "Accuracy score: 0.3537\n",
      "F1 score: 0.6368529046733523\n",
      "Precision: 0.5034716662035972\n",
      "Evaluation metrics for C = 5 :\n",
      "Accuracy score: 0.36443333333333333\n",
      "F1 score: 0.6514834364301708\n",
      "Precision: 0.512713884853713\n",
      "Evaluation metrics for C = 10 :\n",
      "Accuracy score: 0.36306666666666665\n",
      "F1 score: 0.6540489488810934\n",
      "Precision: 0.510276783683163\n",
      "Evaluation metrics for C = 100 :\n",
      "Accuracy score: 0.32053333333333334\n",
      "F1 score: 0.6275458414967682\n",
      "Precision: 0.46392527411356665\n"
     ]
    }
   ],
   "source": [
    "def eval_tfidf(X_train_tfidf, y_train, X_val_tfidf, y_val, C):\n",
    "    \n",
    "    clf = OneVsRestClassifier(estimator=LogisticRegression(C=C))\n",
    "    clf.fit(X_train_tfidf, y_train)\n",
    "    y_val_predicted_labels_tfidf = clf.predict(X_val_tfidf)\n",
    "    print('Evaluation metrics for C =', C, ':')\n",
    "    print_evaluation_scores(y_val, y_val_predicted_labels_tfidf)\n",
    "    \n",
    "for C in [1, 2, 5, 10, 100]:\n",
    "    eval_tfidf(X_train_tfidf, y_train, X_val_tfidf, y_val, C=C)"
   ]
  },
  {
   "cell_type": "markdown",
   "metadata": {},
   "source": [
    "Select C = 10 for training the classifier using tfidf and making predictions on the test set."
   ]
  },
  {
   "cell_type": "code",
   "execution_count": 30,
   "metadata": {},
   "outputs": [
    {
     "data": {
      "text/plain": [
       "OneVsRestClassifier(estimator=LogisticRegression(C=10, class_weight=None, dual=False, fit_intercept=True,\n",
       "          intercept_scaling=1, max_iter=100, multi_class='ovr', n_jobs=1,\n",
       "          penalty='l2', random_state=None, solver='liblinear', tol=0.0001,\n",
       "          verbose=0, warm_start=False),\n",
       "          n_jobs=1)"
      ]
     },
     "execution_count": 30,
     "metadata": {},
     "output_type": "execute_result"
    }
   ],
   "source": [
    "clf = OneVsRestClassifier(estimator=LogisticRegression(C=10))\n",
    "clf.fit(X_train_tfidf, y_train)"
   ]
  },
  {
   "cell_type": "code",
   "execution_count": 31,
   "metadata": {
    "collapsed": true
   },
   "outputs": [],
   "source": [
    "test_predictions = clf.predict(X_test_tfidf)\n",
    "test_pred_inversed = mlb.inverse_transform(test_predictions)"
   ]
  },
  {
   "cell_type": "markdown",
   "metadata": {},
   "source": [
    "## Example of test samples and predicted tags"
   ]
  },
  {
   "cell_type": "code",
   "execution_count": 32,
   "metadata": {},
   "outputs": [
    {
     "name": "stdout",
     "output_type": "stream",
     "text": [
      "warning mysql_query expects parameter 2 resource object given ('mysql', 'php')\n",
      "get click coordinates input typeimage via javascript ('html', 'javascript', 'jquery')\n",
      "implement cloud storage media assets zf ()\n",
      "catcomplete jquerys autocomplete plugin ('javascript', 'jquery')\n",
      "error building android app cordova 31 cli ('android', 'java')\n",
      "parse xml file php ('parsing', 'php', 'xml')\n",
      "uploading files via json post request web service provided teambox ('json',)\n",
      "adding rows jtable right order ('java', 'swing')\n",
      "read input file python ('file', 'python')\n",
      "pdf generation html containing images text ('html',)\n",
      "trying get sql query dynamic jquery ('jquery', 'php', 'sql')\n",
      "fiting 2parameters weibull distribution tabulated data ('r',)\n",
      "add six months php ('php',)\n",
      "code constants rails 3 application ('ruby-on-rails',)\n",
      "comparing list items one column datatable ('asp.net', 'c#')\n",
      "python sort upper case lower case ('python',)\n",
      "make pointer multidimensional array unknown size ('c++',)\n",
      "rails 3 trigger ajax submit radio button change rendering html response ('ajax', 'html', 'javascript', 'jquery', 'ruby-on-rails')\n",
      "source code apps windows8 ()\n",
      "callback sockets linux ('c', 'c++', 'linux', 'sockets')\n"
     ]
    }
   ],
   "source": [
    "for i in range(20):\n",
    "    print(X_test[i], test_pred_inversed[i])"
   ]
  },
  {
   "cell_type": "code",
   "execution_count": null,
   "metadata": {},
   "outputs": [],
   "source": []
  }
 ],
 "metadata": {
  "kernelspec": {
   "display_name": "Python 3",
   "language": "python",
   "name": "python3"
  },
  "language_info": {
   "codemirror_mode": {
    "name": "ipython",
    "version": 3
   },
   "file_extension": ".py",
   "mimetype": "text/x-python",
   "name": "python",
   "nbconvert_exporter": "python",
   "pygments_lexer": "ipython3",
   "version": "3.6.5"
  }
 },
 "nbformat": 4,
 "nbformat_minor": 2
}
